{
    "nbformat_minor": 1, 
    "cells": [
        {
            "source": "# Some Background", 
            "cell_type": "markdown", 
            "metadata": {
                "collapsed": true
            }
        }, 
        {
            "source": "##### It is well known by people around the world that finding an apartment in New York City is like looking for a needle in a haystack. NYC is among the top 5 most expensive cities to live in, even if one does manage to find housing. Using location data, one can find housing that checks all the requirements, before even visiting the city.", 
            "cell_type": "markdown", 
            "metadata": {}
        }, 
        {
            "source": "# The Problem", 
            "cell_type": "markdown", 
            "metadata": {}
        }, 
        {
            "source": "##### To find an apartment for rent in Manhattan, NYC that has at least 2 bedrooms and costs under USD 7000 a month, is located on a street with an abundance of amenities, and is less than a mile from a subway station.", 
            "cell_type": "markdown", 
            "metadata": {}
        }, 
        {
            "source": "# Data Used", 
            "cell_type": "markdown", 
            "metadata": {}
        }, 
        {
            "source": "##### The data gathered includes the names of various neighborhoods on Manhattan, the stores, subway stations, and other amenities on those streets, the names and features of apartments located on those streets, their distances from the nearest subway stations, etc. A .csv file listing the various neighborhoods of Manhattan is converted into a dataframe and is used to study the various neighborhoods.", 
            "cell_type": "markdown", 
            "metadata": {}
        }, 
        {
            "source": "##### A list of apartments in Manhattan was compiled by browsing through various real estate websites. Using the data obtained, a .csv file was created with information on the apartments themselves, their geodata, latitudes and longitudes of the nearest subway stations, etc.", 
            "cell_type": "markdown", 
            "metadata": {}
        }, 
        {
            "source": "##### Foursquare data is used to find the top 10 apartments in Manhattan neighborhoods with the desired criteria. Nearest subway station, stores, etc. are shown around the apartment. Apartment addresses are converted to geodata in terms of latitude and longitude.", 
            "cell_type": "markdown", 
            "metadata": {}
        }, 
        {
            "source": "# Introduction- Who Would Be Interested In This?", 
            "cell_type": "markdown", 
            "metadata": {}
        }, 
        {
            "source": "##### This data would be extremely helpful to people considering moving to Manhattan, as they would have all the information needed to make a decision on where in Manhattan to live, what apartment to rent, etc.", 
            "cell_type": "markdown", 
            "metadata": {}
        }, 
        {
            "source": "# Methodology- The Process", 
            "cell_type": "markdown", 
            "metadata": {}
        }, 
        {
            "execution_count": 3, 
            "cell_type": "code", 
            "metadata": {
                "scrolled": true
            }, 
            "outputs": [
                {
                    "output_type": "stream", 
                    "name": "stdout", 
                    "text": "Fetching package metadata .............\nSolving package specifications: .\n\nPackage plan for installation in environment /opt/conda/envs/DSX-Python35:\n\nThe following NEW packages will be INSTALLED:\n\n    geographiclib: 1.49-py_0   conda-forge\n    geopy:         1.19.0-py_0 conda-forge\n\ngeographiclib- 100% |################################| Time: 0:00:00  22.42 MB/s\ngeopy-1.19.0-p 100% |################################| Time: 0:00:00  36.08 MB/s\nFetching package metadata .............\nSolving package specifications: .\n\n# All requested packages already installed.\n# packages in environment at /opt/conda/envs/DSX-Python35:\n#\nfolium                    0.5.0                      py_0    conda-forge\nLibraries imported.\n"
                }
            ], 
            "source": "import numpy as np # library to handle data in a vectorized manner\nimport time\nimport pandas as pd # library for data analsysis\npd.set_option('display.max_columns', None)\npd.set_option('display.max_rows', None)\n\nimport json # library to handle JSON files\nimport requests # library to handle requests\nfrom pandas.io.json import json_normalize # tranform JSON file into a pandas dataframe\n\n\n!conda install -c conda-forge geopy --yes\nfrom geopy.geocoders import Nominatim # convert an address into latitude and longitude values\n\n!conda install -c conda-forge folium=0.5.0 --yes\nimport folium # map rendering library\nimport folium # map rendering library\nfrom folium import plugins\n\n# Matplotlib and associated plotting modules\nimport matplotlib.cm as cm\nimport matplotlib.colors as colors\n\nimport seaborn as sns\n\n# import k-means from clustering stage\nfrom sklearn.cluster import KMeans\n\n\n\nprint('Libraries imported.')"
        }, 
        {
            "execution_count": 16, 
            "cell_type": "code", 
            "metadata": {}, 
            "outputs": [
                {
                    "output_type": "stream", 
                    "name": "stdout", 
                    "text": "The geograpical coordinate of Singapore home are 1.2787941, 103.848846.\n"
                }
            ], 
            "source": "address = 'Mccallum Street, Singapore'\ngeolocator = Nominatim()\nlocation = geolocator.geocode(address)\nlatitude = location.latitude\nlongitude = location.longitude\nprint('The geograpical coordinate of Singapore home are {}, {}.'.format(latitude, longitude))"
        }, 
        {
            "execution_count": 15, 
            "cell_type": "code", 
            "metadata": {}, 
            "outputs": [], 
            "source": "neighborhood_latitude=1.2792655\nneighborhood_longitude=103.8480938"
        }, 
        {
            "execution_count": 6, 
            "cell_type": "code", 
            "metadata": {}, 
            "outputs": [], 
            "source": "#Credentials Changed After Running The Cell\nCLIENT_ID = 'xxx' # your Foursquare ID\nCLIENT_SECRET = 'xxx' # your Foursquare Secret\nVERSION = 'xxx' # Foursquare API version\n\n#print('Your credentails:')\n#print('CLIENT_ID: ' + CLIENT_ID)\n#print('CLIENT_SECRET:' + CLIENT_SECRET)"
        }, 
        {
            "execution_count": 7, 
            "cell_type": "code", 
            "metadata": {}, 
            "outputs": [
                {
                    "execution_count": 7, 
                    "metadata": {}, 
                    "data": {
                        "text/plain": "'https://api.foursquare.com/v2/venues/explore?&client_id=KWEP1T0LO5SHP0HS33YQJLCLTDFXU12Z5U2DYQTB4JKJSBMF&client_secret=L5D2FCBHLTOITVATHFD2MAO2M0IDOQZPWXCTKMTRZYKIQ3TX&v=20180604&ll=1.2792655,103.8480938&radius=500&limit=100'"
                    }, 
                    "output_type": "execute_result"
                }
            ], 
            "source": "#Exploring a popular street in Singapore to compare it to the various neighborhoods in Manhattan that we'll be exloring later\n\nLIMIT = 100 # limit of number of venues returned by Foursquare API\nradius = 500 # define radius\n# create URL\nurl = 'https://api.foursquare.com/v2/venues/explore?&client_id={}&client_secret={}&v={}&ll={},{}&radius={}&limit={}'.format(\n    CLIENT_ID, \n    CLIENT_SECRET, \n    VERSION, \n    neighborhood_latitude, \n    neighborhood_longitude, \n    radius, \n    LIMIT)\nurl # display URL"
        }, 
        {
            "execution_count": 8, 
            "cell_type": "code", 
            "metadata": {}, 
            "outputs": [], 
            "source": "results = requests.get(url).json()"
        }, 
        {
            "execution_count": 9, 
            "cell_type": "code", 
            "metadata": {}, 
            "outputs": [], 
            "source": "def get_category_type(row):\n    try:\n        categories_list = row['categories']\n    except:\n        categories_list = row['venue.categories']\n        \n    if len(categories_list) == 0:\n        return None\n    else:\n        return categories_list[0]['name']"
        }, 
        {
            "execution_count": 10, 
            "cell_type": "code", 
            "metadata": {}, 
            "outputs": [
                {
                    "execution_count": 10, 
                    "metadata": {}, 
                    "data": {
                        "text/plain": "(100, 4)"
                    }, 
                    "output_type": "execute_result"
                }
            ], 
            "source": "venues = results['response']['groups'][0]['items']\nSGnearby_venues = json_normalize(venues) # flatten JSON\n# filter columns\nfiltered_columns = ['venue.name', 'venue.categories', 'venue.location.lat', 'venue.location.lng']\nSGnearby_venues =SGnearby_venues.loc[:, filtered_columns]\n# filter the category for each row\nSGnearby_venues['venue.categories'] = SGnearby_venues.apply(get_category_type, axis=1)\n# clean columns\nSGnearby_venues.columns = [col.split(\".\")[-1] for col in SGnearby_venues.columns]\n\nSGnearby_venues.shape"
        }, 
        {
            "execution_count": 11, 
            "cell_type": "code", 
            "metadata": {
                "scrolled": true
            }, 
            "outputs": [
                {
                    "execution_count": 11, 
                    "metadata": {}, 
                    "data": {
                        "text/html": "<div>\n<style scoped>\n    .dataframe tbody tr th:only-of-type {\n        vertical-align: middle;\n    }\n\n    .dataframe tbody tr th {\n        vertical-align: top;\n    }\n\n    .dataframe thead th {\n        text-align: right;\n    }\n</style>\n<table border=\"1\" class=\"dataframe\">\n  <thead>\n    <tr style=\"text-align: right;\">\n      <th></th>\n      <th>name</th>\n      <th>categories</th>\n      <th>lat</th>\n      <th>lng</th>\n    </tr>\n  </thead>\n  <tbody>\n    <tr>\n      <th>0</th>\n      <td>Napoleon Food &amp; Wine Bar</td>\n      <td>Wine Bar</td>\n      <td>1.279925</td>\n      <td>103.847333</td>\n    </tr>\n    <tr>\n      <th>1</th>\n      <td>Native</td>\n      <td>Cocktail Bar</td>\n      <td>1.280135</td>\n      <td>103.846844</td>\n    </tr>\n    <tr>\n      <th>2</th>\n      <td>Freehouse</td>\n      <td>Beer Garden</td>\n      <td>1.281254</td>\n      <td>103.848513</td>\n    </tr>\n    <tr>\n      <th>3</th>\n      <td>Park Bench Deli</td>\n      <td>Deli / Bodega</td>\n      <td>1.279872</td>\n      <td>103.847287</td>\n    </tr>\n    <tr>\n      <th>4</th>\n      <td>Matt's | The Chocolate Shop</td>\n      <td>Dessert Shop</td>\n      <td>1.280462</td>\n      <td>103.846950</td>\n    </tr>\n    <tr>\n      <th>5</th>\n      <td>PS.Cafe</td>\n      <td>Caf\u00e9</td>\n      <td>1.280468</td>\n      <td>103.846264</td>\n    </tr>\n    <tr>\n      <th>6</th>\n      <td>Amoy Street Food Centre</td>\n      <td>Food Court</td>\n      <td>1.279368</td>\n      <td>103.847079</td>\n    </tr>\n    <tr>\n      <th>7</th>\n      <td>\uc655\ub300\ubc15 Wang Dae Bak Korean BBQ Restaurant</td>\n      <td>Korean Restaurant</td>\n      <td>1.281345</td>\n      <td>103.847551</td>\n    </tr>\n    <tr>\n      <th>8</th>\n      <td>Magal BBQ \ub9c8\ud3ec\uac08\ub9e4\uae30</td>\n      <td>Korean Restaurant</td>\n      <td>1.281299</td>\n      <td>103.847932</td>\n    </tr>\n    <tr>\n      <th>9</th>\n      <td>Mellower Coffee</td>\n      <td>Caf\u00e9</td>\n      <td>1.277814</td>\n      <td>103.848188</td>\n    </tr>\n  </tbody>\n</table>\n</div>", 
                        "text/plain": "                                     name         categories       lat  \\\n0                Napoleon Food & Wine Bar           Wine Bar  1.279925   \n1                                  Native       Cocktail Bar  1.280135   \n2                               Freehouse        Beer Garden  1.281254   \n3                         Park Bench Deli      Deli / Bodega  1.279872   \n4             Matt's | The Chocolate Shop       Dessert Shop  1.280462   \n5                                 PS.Cafe               Caf\u00e9  1.280468   \n6                 Amoy Street Food Centre         Food Court  1.279368   \n7  \uc655\ub300\ubc15 Wang Dae Bak Korean BBQ Restaurant  Korean Restaurant  1.281345   \n8                         Magal BBQ \ub9c8\ud3ec\uac08\ub9e4\uae30  Korean Restaurant  1.281299   \n9                         Mellower Coffee               Caf\u00e9  1.277814   \n\n          lng  \n0  103.847333  \n1  103.846844  \n2  103.848513  \n3  103.847287  \n4  103.846950  \n5  103.846264  \n6  103.847079  \n7  103.847551  \n8  103.847932  \n9  103.848188  "
                    }, 
                    "output_type": "execute_result"
                }
            ], 
            "source": "SGnearby_venues.head(10)"
        }, 
        {
            "source": "## I was forced to stop running cells at this point since my Jupiter Notebook froze every time I executed a cell. To counter this, I manually entered some of the outputs (such as tables) below the actual code itself.", 
            "cell_type": "markdown", 
            "metadata": {}
        }, 
        {
            "execution_count": null, 
            "cell_type": "code", 
            "metadata": {}, 
            "outputs": [], 
            "source": "manhattan_data  = pd.read_csv('Man_neigh_data.csv') \nmanhattan_data.head()\n\n\tBorough\tNeighborhood\tLatitude\tLongitude\tCluster Labels\n0\tManhattan\tMarble Hill\t40.876551\t-73.910660\t2\n1\tManhattan\tChinatown\t40.715618\t-73.994279\t2\n2\tManhattan\tWashington Heights\t40.851903\t-73.936900\t4\n3\tManhattan\tInwood\t40.867684\t-73.921210\t3\n4\tManhattan\tHamilton Heights\t40.823604\t-73.949688\t0"
        }, 
        {
            "execution_count": 14, 
            "cell_type": "code", 
            "metadata": {
                "collapsed": true
            }, 
            "outputs": [
                {
                    "ename": "SyntaxError", 
                    "evalue": "invalid syntax (<ipython-input-14-0790e5e3c5c2>, line 3)", 
                    "traceback": [
                        "\u001b[0;36m  File \u001b[0;32m\"<ipython-input-14-0790e5e3c5c2>\"\u001b[0;36m, line \u001b[0;32m3\u001b[0m\n\u001b[0;31m    Borough\tNeighborhood\tLatitude\tLongitude\tCluster Labels\t1st Most Common Venue\t2nd Most Common Venue\t3rd Most Common Venue\t4th Most Common Venue\t5th Most Common Venue\t6th Most Common Venue\t7th Most Common Venue\t8th Most Common Venue\t9th Most Common Venue\t10th Most Common Venue\u001b[0m\n\u001b[0m           \t           ^\u001b[0m\n\u001b[0;31mSyntaxError\u001b[0m\u001b[0;31m:\u001b[0m invalid syntax\n"
                    ], 
                    "output_type": "error"
                }
            ], 
            "source": "manhattan_merged = pd.read_csv('Manhattan_top10.csv')\nmanhattan_merged.head()\nBorough\tNeighborhood\tLatitude\tLongitude\tCluster Labels\t1st Most Common Venue\t2nd Most Common Venue\t3rd Most Common Venue\t4th Most Common Venue\t5th Most Common Venue\t6th Most Common Venue\t7th Most Common Venue\t8th Most Common Venue\t9th Most Common Venue\t10th Most Common Venue\n0\tManhattan\tMarble Hill\t40.876551\t-73.910660\t2\tCoffee Shop\tDiscount Store\tYoga Studio\tSteakhouse\tSupplement Shop\tTennis Stadium\tShoe Store\tGym\tBank\tSeafood Restaurant\n1\tManhattan\tChinatown\t40.715618\t-73.994279\t2\tChinese Restaurant\tCocktail Bar\tDim Sum Restaurant\tAmerican Restaurant\tVietnamese Restaurant\tSalon / Barbershop\tNoodle House\tBakery\tBubble Tea Shop\tIce Cream Shop\n2\tManhattan\tWashington Heights\t40.851903\t-73.936900\t4\tCaf\u00e9\tBakery\tMobile Phone Shop\tPizza Place\tSandwich Place\tPark\tGym\tLatin American Restaurant\tTapas Restaurant\tMexican Restaurant\n3\tManhattan\tInwood\t40.867684\t-73.921210\t3\tMexican Restaurant\tLounge\tPizza Place\tCaf\u00e9\tWine Bar\tBakery\tAmerican Restaurant\tPark\tFrozen Yogurt Shop\tSpanish Restaurant\n4\tManhattan\tHamilton Heights\t40.823604\t-73.949688\t0\tMexican Restaurant\tCoffee Shop\tCaf\u00e9\tDeli / Bodega\tPizza Place\tLiquor Store\tIndian Restaurant\tSushi Restaurant\tSandwich Place\tYoga Studio"
        }, 
        {
            "execution_count": null, 
            "cell_type": "code", 
            "metadata": {}, 
            "outputs": [], 
            "source": "latitude= 40.7308619\nlongitude= -73.9871558 \n\nkclusters=5\nmap_clusters = folium.Map(location=[latitude, longitude], zoom_start=13)\n\n# set color scheme for the clusters\nx = np.arange(kclusters)\nys = [i+x+(i*x)**2 for i in range(kclusters)]\ncolors_array = cm.rainbow(np.linspace(0, 1, len(ys)))\nrainbow = [colors.rgb2hex(i) for i in colors_array]\n\n# add markers to the map\nmarkers_colors = []\nfor lat, lon, poi, cluster in zip(manhattan_merged['Latitude'], manhattan_merged['Longitude'], manhattan_merged['Neighborhood'], manhattan_merged['Cluster Labels']):\n    label = folium.Popup(str(poi) + ' Cluster ' + str(cluster), parse_html=True)\n    folium.CircleMarker(\n        [lat, lon],\n        radius=20,\n        popup=label,\n        color=rainbow[cluster-1],\n        fill=True,\n        fill_color=rainbow[cluster-1],\n        fill_opacity=0.7).add_to(map_clusters)\n  # add markers for rental places to map\nfor lat, lng, label in zip(manhattan_data['Latitude'], manhattan_data['Longitude'], manhattan_data['Neighborhood']):\n    label = folium.Popup(label, parse_html=True)\n    folium.CircleMarker(\n        [lat, lng],\n        radius=5,\n        popup=label,\n        color='blue',\n        fill=True,\n        fill_color='#3186cc',\n        fill_opacity=0.7,\n        parse_html=False).add_to(map_clusters)"
        }, 
        {
            "execution_count": null, 
            "cell_type": "code", 
            "metadata": {}, 
            "outputs": [], 
            "source": "## kk is the cluster number to explore\nkk = 2\nManhattan_top10.loc[Manhattan_top10['Cluster Labels'] == kk, Manhattan_top10.columns[[1] + list(range(5, Manhattan_top10.shape[1]))]]\n\n\tNeighborhood\t1st Most Common Venue\t2nd Most Common Venue\t3rd Most Common Venue\t4th Most Common Venue\t5th Most Common Venue\t6th Most Common Venue\t7th Most Common Venue\t8th Most Common Venue\t9th Most Common Venue\t10th Most Common Venue\n0\tMarble Hill\tCoffee Shop\tDiscount Store\tYoga Studio\tSteakhouse\tSupplement Shop\tTennis Stadium\tShoe Store\tGym\tBank\tSeafood Restaurant\n1\tChinatown\tChinese Restaurant\tCocktail Bar\tDim Sum Restaurant\tAmerican Restaurant\tVietnamese Restaurant\tSalon / Barbershop\tNoodle House\tBakery\tBubble Tea Shop\tIce Cream Shop\n6\tCentral Harlem\tAfrican Restaurant\tSeafood Restaurant\tFrench Restaurant\tAmerican Restaurant\tCosmetics Shop\tChinese Restaurant\tEvent Space\tLiquor Store\tBeer Bar\tGym / Fitness Center\n9\tYorkville\tCoffee Shop\tGym\tBar\tItalian Restaurant\tSushi Restaurant\tPizza Place\tMexican Restaurant\tDeli / Bodega\tJapanese Restaurant\tPub\n14\tClinton\tTheater\tItalian Restaurant\tCoffee Shop\tAmerican Restaurant\tGym / Fitness Center\tHotel\tWine Shop\tSpa\tGym\tIndie Theater\n23\tSoho\tClothing Store\tBoutique\tWomen's Store\tShoe Store\tMen's Store\tFurniture / Home Store\tItalian Restaurant\tMediterranean Restaurant\tArt Gallery\tDesign Studio\n26\tMorningside Heights\tCoffee Shop\tAmerican Restaurant\tPark\tBookstore\tPizza Place\tSandwich Place\tBurger Joint\tCaf\u00e9\tDeli / Bodega\tTennis Court\n34\tSutton Place\tGym / Fitness Center\tItalian Restaurant\tFurniture / Home Store\tIndian Restaurant\tDessert Shop\tAmerican Restaurant\tBakery\tJuice Bar\tBoutique\tSushi Restaurant\n39\tHudson Yards\tCoffee Shop\tItalian Restaurant\tHotel\tTheater\tAmerican Restaurant\tCaf\u00e9\tGym / Fitness Center\tThai Restaurant\tRestaurant\tGym"
        }, 
        {
            "execution_count": null, 
            "cell_type": "code", 
            "metadata": {}, 
            "outputs": [], 
            "source": "mh_rent=pd.read_csv('MH_flats_price.csv')\nmh_rent.head()\n\n\tAddress\tArea\tPrice_per_ft2\tRooms\tArea-ft2\tRent_Price\tLat\tLong\n0\tWest 105th Street\tUpper West Side\t2.94\t5.0\t3400\t10000\tNaN\tNaN\n1\tEast 97th Street\tUpper East Side\t3.57\t3.0\t2100\t7500\tNaN\tNaN\n2\tWest 105th Street\tUpper West Side\t1.89\t4.0\t2800\t5300\tNaN\tNaN\n3\tCARMINE ST.\tWest Village\t3.03\t2.0\t1650\t5000\tNaN\tNaN\n4\t171 W 23RD ST.\tChelsea\t3.45\t2.0\t1450\t5000\tNaN\tNaN"
        }, 
        {
            "execution_count": null, 
            "cell_type": "code", 
            "metadata": {}, 
            "outputs": [], 
            "source": "mh_rent.to_csv('MH_rent_latlong.csv',index=False)"
        }, 
        {
            "execution_count": null, 
            "cell_type": "code", 
            "metadata": {}, 
            "outputs": [], 
            "source": "mh_rent=pd.read_csv('MH_rent_latlong.csv')\nmh_rent.head()\n\n\tAddress\tArea\tPrice_per_ft2\tRooms\tArea-ft2\tRent_Price\tLat\tLong\n0\tWest 105th Street\tUpper West Side\t2.94\t5.0\t3400\t10000\t40.799771\t-73.966213\n1\tEast 97th Street\tUpper East Side\t3.57\t3.0\t2100\t7500\t40.788585\t-73.955277\n2\tWest 105th Street\tUpper West Side\t1.89\t4.0\t2800\t5300\t40.799771\t-73.966213\n3\tCARMINE ST.\tWest Village\t3.03\t2.0\t1650\t5000\t40.730523\t-74.001873\n4\t171 W 23RD ST.\tChelsea\t3.45\t2.0\t1450\t5000\t40.744118\t-73.995299"
        }, 
        {
            "execution_count": null, 
            "cell_type": "code", 
            "metadata": {}, 
            "outputs": [], 
            "source": "import seaborn as sns\nsns.distplot(mh_rent['Rent_Price'],bins=15)"
        }, 
        {
            "execution_count": null, 
            "cell_type": "code", 
            "metadata": {}, 
            "outputs": [], 
            "source": "sns.boxplot(x='Rooms', y= 'Rent_Price', data=mh_rent)"
        }, 
        {
            "execution_count": null, 
            "cell_type": "code", 
            "metadata": {}, 
            "outputs": [], 
            "source": "#To create the map of Manhattan\nlatitude= 40.7308619\nlongitude= -73.9871558\n\nmap_manhattan_rent = folium.Map(location=[latitude, longitude], zoom_start=12.5)\n\n# add markers to map\nfor lat, lng, label in zip(mh_rent['Lat'], mh_rent['Long'],'$ ' + mh_rent['Rent_Price'].astype(str)+ ',  '+ mh_rent['Address']):      \n    label = folium.Popup(label, parse_html=True)\n    folium.CircleMarker(\n        [lat, lng],\n        radius=6,\n        popup=label,\n        color='blue',\n        fill=True,\n        fill_color='#3186cc',\n        fill_opacity=0.7,\n        parse_html=False).add_to(map_manhattan_rent)"
        }, 
        {
            "execution_count": null, 
            "cell_type": "code", 
            "metadata": {}, 
            "outputs": [], 
            "source": "latitude= 40.7308619\nlongitude= -73.9871558\n\n# clusters for map\nkclusters=5\nmap_clusters2 = folium.Map(location=[latitude, longitude], zoom_start=13)\n\n# colors for clusters\nx = np.arange(kclusters)\nys = [i+x+(i*x)**2 for i in range(kclusters)]\ncolors_array = cm.rainbow(np.linspace(0, 1, len(ys)))\nrainbow = [colors.rgb2hex(i) for i in colors_array]\n\n# add markers\nmarkers_colors = []\nfor lat, lon, poi, cluster in zip(manhattan_merged['Latitude'], manhattan_merged['Longitude'], manhattan_merged['Neighborhood'], manhattan_merged['Cluster Labels']):\n    label = folium.Popup(str(poi) + ' Cluster ' + str(cluster), parse_html=True)\n    folium.CircleMarker(\n        [lat, lon],\n        radius=20,\n        popup=label,\n        color=rainbow[cluster-1],\n        fill=True,\n        fill_color=rainbow[cluster-1],\n        fill_opacity=0.7).add_to(map_clusters2)\n\n# add markers for apartments\nfor lat, lng, label in zip(mh_rent['Lat'], mh_rent['Long'],'$ ' + mh_rent['Rent_Price'].astype(str)+ mh_rent['Address']):      \n    label = folium.Popup(label, parse_html=True)\n    folium.CircleMarker(\n        [lat, lng],\n        radius=6,\n        popup=label,\n        color='blue',\n        fill=True,\n        fill_color='#3186cc',\n        fill_opacity=0.7,\n        parse_html=False).add_to(map_clusters2)  \n    \n    # Adds tool to the top right\nfrom folium.plugins import MeasureControl\nmap_manhattan_rent.add_child(MeasureControl())\n\n# FMeasurement ruler icon to establish distances on map\nfrom folium.plugins import FloatImage\nurl = ('https://media.licdn.com/mpr/mpr/shrinknp_100_100/AAEAAQAAAAAAAAlgAAAAJGE3OTA4YTdlLTkzZjUtNDFjYy1iZThlLWQ5OTNkYzlhNzM4OQ.jpg')\nFloatImage(url, bottom=5, left=85).add_to(map_manhattan_rent)\n"
        }, 
        {
            "source": "### Now, to see if the apartment is located close to a subway station", 
            "cell_type": "markdown", 
            "metadata": {}
        }, 
        {
            "execution_count": null, 
            "cell_type": "code", 
            "metadata": {}, 
            "outputs": [], 
            "source": "kk = 3\nmanhattan_merged.loc[manhattan_merged['Cluster Labels'] == kk, manhattan_merged.columns[[1] + list(range(5, manhattan_merged.shape[1]))]]\n\nNeighborhood\t1st Most Common Venue\t2nd Most Common Venue\t3rd Most Common Venue\t4th Most Common Venue\t5th Most Common Venue\t6th Most Common Venue\t7th Most Common Venue\t8th Most Common Venue\t9th Most Common Venue\t10th Most Common Venue\n3\tInwood\tMexican Restaurant\tLounge\tPizza Place\tCaf\u00e9\tWine Bar\tBakery\tAmerican Restaurant\tPark\tFrozen Yogurt Shop\tSpanish Restaurant\n5\tManhattanville\tDeli / Bodega\tItalian Restaurant\tSeafood Restaurant\tMexican Restaurant\tSushi Restaurant\tBeer Garden\tCoffee Shop\tFalafel Restaurant\tBike Trail\tOther Nightlife\n10\tLenox Hill\tSushi Restaurant\tItalian Restaurant\tCoffee Shop\tGym / Fitness Center\tPizza Place\tBurger Joint\tDeli / Bodega\tGym\tSporting Goods Shop\tThai Restaurant\n12\tUpper West Side\tItalian Restaurant\tBar\tBakery\tVegetarian / Vegan Restaurant\tIndian Restaurant\tCoffee Shop\tCosmetics Shop\tWine Bar\tMexican Restaurant\tSushi Restaurant\n16\tMurray Hill\tSandwich Place\tHotel\tJapanese Restaurant\tGym / Fitness Center\tCoffee Shop\tSalon / Barbershop\tBurger Joint\tFrench Restaurant\tBar\tItalian Restaurant\n17\tChelsea\tCoffee Shop\tItalian Restaurant\tIce Cream Shop\tBakery\tNightclub\tTheater\tArt Gallery\tSeafood Restaurant\tAmerican Restaurant\tHotel\n18\tGreenwich Village\tItalian Restaurant\tSushi Restaurant\tFrench Restaurant\tClothing Store\tChinese Restaurant\tCaf\u00e9\tIndian Restaurant\tBakery\tSeafood Restaurant\tElectronics Store\n27\tGramercy\tItalian Restaurant\tRestaurant\tThrift / Vintage Store\tCocktail Bar\tBagel Shop\tCoffee Shop\tPizza Place\tMexican Restaurant\tGrocery Store\tWine Shop\n29\tFinancial District\tCoffee Shop\tHotel\tGym\tWine Shop\tSteakhouse\tBar\tItalian Restaurant\tPizza Place\tPark\tGym / Fitness Center\n31\tNoho\tItalian Restaurant\tFrench Restaurant\tCocktail Bar\tGift Shop\tBookstore\tGrocery Store\tMexican Restaurant\tHotel\tSushi Restaurant\tCoffee Shop\n32\tCivic Center\tGym / Fitness Center\tBakery\tItalian Restaurant\tCocktail Bar\tFrench Restaurant\tSandwich Place\tCoffee Shop\tGym\tYoga Studio\tPark\n35\tTurtle Bay\tItalian Restaurant\tCoffee Shop\tSteakhouse\tWine Bar\tSushi Restaurant\tHotel\tNoodle House\tIndian Restaurant\tJapanese Restaurant\tFrench Restaurant\n36\tTudor City\tCaf\u00e9\tPark\tPizza Place\tMexican Restaurant\tGreek Restaurant\tSushi Restaurant\tHotel\tDeli / Bodega\tDiner\tDog Run\n38\tFlatiron\tItalian Restaurant\tAmerican Restaurant\tGym\tGym / Fitness Center\tYoga Studio\tVegetarian / Vegan Restaurant\tBakery\tClothing Store\tCosmetics Shop\tCycle Studio"
        }, 
        {
            "execution_count": null, 
            "cell_type": "code", 
            "metadata": {}, 
            "outputs": [], 
            "source": "mh=pd.read_csv('NYC_subway_list.csv')\nmh.head()\n\n\tsub_station\tsub_address\n0\tDyckman Street Subway Station\t170 Nagle Ave, New York, NY 10034, USA\n1\t57 Street Subway Station\tNew York, NY 10106, USA\n2\tBroad St\tNew York, NY 10005, USA\n3\t175 Street Station\t807 W 177th St, New York, NY 10033, USA\n4\t5 Av and 53 St\tNew York, NY 10022, USA"
        }, 
        {
            "execution_count": null, 
            "cell_type": "code", 
            "metadata": {}, 
            "outputs": [], 
            "source": "#Adding Latitude and Longitude Columns\nsLength = len(mh['sub_station'])\nlat = pd.Series(np.random.randn(sLength))\nlong=pd.Series(np.random.randn(sLength))\nmh = mh.assign(lat=lat.values)\nmh = mh.assign(long=long.values)"
        }, 
        {
            "execution_count": null, 
            "cell_type": "code", 
            "metadata": {}, 
            "outputs": [], 
            "source": "for n in range(len(mh)): address= mh['sub_address'][n] geolocator = Nominatim() location = geolocator.geocode(address) latitude = location.latitude longitude = location.longitude mh['lat'][n]=latitude mh['long'][n]=longitude\n\n#print(n,latitude,longitude)\ntime.sleep(2)"
        }, 
        {
            "execution_count": null, 
            "cell_type": "code", 
            "metadata": {}, 
            "outputs": [], 
            "source": "mh.to_csv('MH_subway.csv',index=False) mh.shape"
        }, 
        {
            "execution_count": null, 
            "cell_type": "code", 
            "metadata": {}, 
            "outputs": [], 
            "source": "#Map with subway stations, apartments, and clusters with their geodata\nlatitude= 40.7308619\nlongitude= -73.9871558\n\nmap_mh_one = folium.Map(location=[latitude, longitude], zoom_start=13.3)\n\n# add markers to map\nfor lat, lng, label in zip(mh_rent['Lat'], mh_rent['Long'],'$ ' + mh_rent['Rent_Price'].astype(str)+ ', '+mh_rent['Address']):      \n    label = folium.Popup(label, parse_html=True)\n    folium.CircleMarker(\n        [lat, lng],\n        radius=6,\n        popup=label,\n        color='blue',\n        fill=True,\n        fill_color='#3186cc',\n        fill_opacity=0.7,\n        parse_html=False).add_to(map_mh_one) \n    \n    # add markers of subway locations to map\nfor lat, lng, label in zip(mhsub1['lat'], mhsub1['long'],  mhsub1['sub_station'].astype(str) ):\n    label = folium.Popup(label, parse_html=True)\n    folium.RegularPolygonMarker(\n        [lat, lng],\n        number_of_sides=6,\n        radius=6,\n        popup=label,\n        color='red',\n        fill_color='red',\n        fill_opacity=2.5,\n    ).add_to(map_mh_one) \n\n\n# set color scheme for the clusters\nkclusters=5\nx = np.arange(kclusters)\nys = [i+x+(i*x)**2 for i in range(kclusters)]\ncolors_array = cm.rainbow(np.linspace(0, 1, len(ys)))\nrainbow = [colors.rgb2hex(i) for i in colors_array]\n\n# add markers to the map\nmarkers_colors = []\nfor lat, lon, poi, cluster in zip(manhattan_merged['Latitude'], manhattan_merged['Longitude'], manhattan_merged['Neighborhood'], manhattan_merged['Cluster Labels']):\n    label = folium.Popup(str(poi) + ' Cluster ' + str(cluster), parse_html=True)\n    folium.CircleMarker(\n        [lat, lon],\n        radius=15,\n        popup=label,\n        color=rainbow[cluster-1],\n        fill=True,\n        fill_color=rainbow[cluster-1],\n        fill_opacity=0.7).add_to(map_mh_one)\n\n    # Adds tool to the top right\nfrom folium.plugins import MeasureControl\nmap_mh_one.add_child(MeasureControl())\n\n# Measurement ruler icon tool to measure distances in map\nfrom folium.plugins import FloatImage\nurl = ('https://media.licdn.com/mpr/mpr/shrinknp_100_100/AAEAAQAAAAAAAAlgAAAAJGE3OTA4YTdlLTkzZjUtNDFjYy1iZThlLWQ5OTNkYzlhNzM4OQ.jpg')\nFloatImage(url, bottom=5, left=85).add_to(map_mh_one)"
        }, 
        {
            "source": "# Results", 
            "cell_type": "markdown", 
            "metadata": {}
        }, 
        {
            "source": "### 2 Apartments seem to fulfill most requirements:\n##### The First- 305 East 63rd Street, Sutton Palace. Nearest Subway Station is on 59th Street. Rent is USD 7500\n##### The Second- 19 Dutch Street, Financial District. Nearest Subway Station is on Fulton Street. Rent is ~USD 6940.", 
            "cell_type": "markdown", 
            "metadata": {}
        }, 
        {
            "source": "# Discussion", 
            "cell_type": "markdown", 
            "metadata": {}
        }, 
        {
            "source": "### Both seem to have various restaurants, malls, shopping centers and more around them, and have subway stations nearby. ", 
            "cell_type": "markdown", 
            "metadata": {}
        }, 
        {
            "source": "### As for my recommendation, I would rent the Apartment on 19 Dutch Street since its rent is lower. Saving even a few Dollars a month can go a long way in a city like New York!", 
            "cell_type": "markdown", 
            "metadata": {}
        }, 
        {
            "source": "# Conclusion", 
            "cell_type": "markdown", 
            "metadata": {}
        }, 
        {
            "source": "### McCallum Street, Singapore was used to compare various neighborhoods in Manhattan, NYC so as to find an apartment located in a neighborhood with either an equally good or a better standard of living. By using clustering algorithms, the search was narrowed down to two apartments loacted on streets that closely resemble McCallum Street in Singapore.", 
            "cell_type": "markdown", 
            "metadata": {}
        }, 
        {
            "execution_count": null, 
            "cell_type": "code", 
            "metadata": {}, 
            "outputs": [], 
            "source": ""
        }
    ], 
    "metadata": {
        "kernelspec": {
            "display_name": "Python 3.5", 
            "name": "python3", 
            "language": "python"
        }, 
        "language_info": {
            "mimetype": "text/x-python", 
            "nbconvert_exporter": "python", 
            "version": "3.5.5", 
            "name": "python", 
            "file_extension": ".py", 
            "pygments_lexer": "ipython3", 
            "codemirror_mode": {
                "version": 3, 
                "name": "ipython"
            }
        }
    }, 
    "nbformat": 4
}